{
 "cells": [
  {
   "cell_type": "code",
   "execution_count": 10,
   "id": "9221a9ab-5b00-4656-9b83-6e4a5903a9a6",
   "metadata": {},
   "outputs": [
    {
     "name": "stdout",
     "output_type": "stream",
     "text": [
      " f(2.3)= 11.216630075247878\n",
      "2.3 n'est pas une solution\n"
     ]
    }
   ],
   "source": [
    "#Chap2 Exercice1\n",
    "\n",
    "def f(x):\n",
    "    return x**x-0.25*x+5\n",
    "\n",
    "print(\" f(2.3)=\", f(2.3))\n",
    "if f(2.3)==0:\n",
    "    print(\"2.3 est une solution \")\n",
    "else :\n",
    "    print(\"2.3 n'est pas une solution\")\n",
    "    "
   ]
  },
  {
   "cell_type": "code",
   "execution_count": 11,
   "id": "ce597479-3c0e-41b9-9fff-b320a8cd1d5d",
   "metadata": {},
   "outputs": [
    {
     "name": "stdout",
     "output_type": "stream",
     "text": [
      "invalide\n"
     ]
    }
   ],
   "source": [
    "#Chap2 Exercice2\n",
    "\n",
    "import math\n",
    "import cmath\n",
    "\n",
    "def g(x,n):\n",
    "    return (math.cos(x)+1j*math.sin(x))**n\n",
    "def d(x,n):\n",
    "    return math.cos(n*x)+1j*math.sin(n*x)\n",
    "     \n",
    "\n",
    "if (g(2,3) == d(2,3)):\n",
    "    print(\"formule valide\")\n",
    "else:\n",
    "    print(\"invalide\")\n",
    "    "
   ]
  },
  {
   "cell_type": "code",
   "execution_count": 12,
   "id": "16b2f595-78a3-48d9-b106-281bde700c1f",
   "metadata": {},
   "outputs": [
    {
     "name": "stdout",
     "output_type": "stream",
     "text": [
      "formule valide\n"
     ]
    }
   ],
   "source": [
    "#Chap2 Exercice3\n",
    "\n",
    "import math\n",
    "import cmath\n",
    "\n",
    "def e(x):\n",
    "    return cmath.exp(1j*x)\n",
    "def f(x):\n",
    "    return math.cos(x)+1j*math.sin(x)\n",
    "\n",
    "if (e(2.3) == f(2.3)):\n",
    "    print(\"formule valide\")\n",
    "else:\n",
    "    print(\"invalide\")\n",
    "\n",
    "\n"
   ]
  },
  {
   "cell_type": "code",
   "execution_count": 13,
   "id": "618bc8a3-6c0f-4851-bd75-d4ae0dc634f1",
   "metadata": {},
   "outputs": [
    {
     "name": "stdout",
     "output_type": "stream",
     "text": [
      "Convergence\n"
     ]
    }
   ],
   "source": [
    "#Chap2 Exercice4\n",
    "\n",
    "u = 1.0 # you have to use a float here!\n",
    "uold = 10.\n",
    "for iteration in range(2000):\n",
    "   if not abs(u-uold) > 1.e-8:\n",
    "      print('Convergence')\n",
    "      break # sequence has converged\n",
    "   uold = u\n",
    "   u = 2*u\n",
    "else:\n",
    "   print('No convergence')\n",
    "    "
   ]
  },
  {
   "cell_type": "code",
   "execution_count": 15,
   "id": "df963fd7-510e-4618-a706-1f9bae2c3c6e",
   "metadata": {},
   "outputs": [
    {
     "name": "stdout",
     "output_type": "stream",
     "text": [
      "No convergence\n"
     ]
    }
   ],
   "source": [
    "\n",
    "\n",
    "u = 1.0 # you have to use a float here!\n",
    "uold = 10.\n",
    "for iteration in range(2000):\n",
    "   if abs(u-uold) < 1.e-8:\n",
    "      print('Convergence')\n",
    "      break # sequence has converged\n",
    "   uold = u\n",
    "   u = 2*u\n",
    "   \n",
    "else:\n",
    "   print('No convergence')"
   ]
  },
  {
   "cell_type": "code",
   "execution_count": 16,
   "id": "804ab0b5-000a-4335-b166-baa738748e11",
   "metadata": {},
   "outputs": [
    {
     "name": "stdout",
     "output_type": "stream",
     "text": [
      "No convergence\n"
     ]
    }
   ],
   "source": [
    "u = 1 # you have to use a float here!\n",
    "uold = 10.\n",
    "for iteration in range(2000):\n",
    "   if abs(u-uold) < 1.e-8:\n",
    "      print('Convergence')\n",
    "      break # sequence has converged\n",
    "   uold = u\n",
    "   u = 2*u\n",
    "   \n",
    "else:\n",
    "   print('No convergence')\n",
    "\n",
    "# la suite converge dans le premier code \n",
    "#Dans le dernier exemple l'affichage ne change pas car u=2*u reste toujours entier et cela ne change pas le resultat "
   ]
  },
  {
   "cell_type": "code",
   "execution_count": 14,
   "id": "67d98310-c870-44b3-8547-4d841d5041b9",
   "metadata": {},
   "outputs": [
    {
     "name": "stdout",
     "output_type": "stream",
     "text": [
      "True\n",
      "False\n",
      "True\n",
      "True\n"
     ]
    }
   ],
   "source": [
    "#Chap2 Exercice5\n",
    "\n",
    "# C est vrai si A est faux ou A et B sont vraix\n",
    "# C est faux si A est Vrai et B est Faux\n",
    "\n",
    "Valeurs=[True,False]\n",
    "for A in Valeurs:\n",
    "    for B in Valeurs:\n",
    "        if A==True and B==False:\n",
    "            C=False\n",
    "        else:\n",
    "            C=True\n",
    "        print(C)\n"
   ]
  },
  {
   "cell_type": "code",
   "execution_count": 5,
   "id": "00928e9d-e47f-4f76-9a28-64b2b5ce3489",
   "metadata": {},
   "outputs": [
    {
     "name": "stdout",
     "output_type": "stream",
     "text": [
      "[1, 2, 1, 2, 1, 2]\n",
      "1 2\n",
      "[1, 4, 1, 4, 1, 4]\n",
      "[1, 2, 1, 2, 1, 2, 1, 4, 1, 4, 1, 4]\n"
     ]
    }
   ],
   "source": [
    "#Chap3 Exercice1\n",
    "\n",
    "L=[1,2]\n",
    "L3=3*L\n",
    "print(L3)\n",
    "print(L3[0],L3[-1])\n",
    "L4 = [k**2 for k in L3]\n",
    "print(L4)\n",
    "L5=L3+L4\n",
    "print(L5)"
   ]
  },
  {
   "cell_type": "code",
   "execution_count": 9,
   "id": "3affb7a5-1a8f-4864-8e92-c1d7314b6075",
   "metadata": {},
   "outputs": [
    {
     "name": "stdout",
     "output_type": "stream",
     "text": [
      "[0.0, 0.01, 0.02, 0.03, 0.04, 0.05, 0.06, 0.07, 0.08, 0.09, 0.1, 0.11, 0.12, 0.13, 0.14, 0.15, 0.16, 0.17, 0.18, 0.19, 0.2, 0.21, 0.22, 0.23, 0.24, 0.25, 0.26, 0.27, 0.28, 0.29, 0.3, 0.31, 0.32, 0.33, 0.34, 0.35, 0.36, 0.37, 0.38, 0.39, 0.4, 0.41, 0.42, 0.43, 0.44, 0.45, 0.46, 0.47, 0.48, 0.49, 0.5, 0.51, 0.52, 0.53, 0.54, 0.55, 0.56, 0.57, 0.58, 0.59, 0.6, 0.61, 0.62, 0.63, 0.64, 0.65, 0.66, 0.67, 0.68, 0.69, 0.7, 0.71, 0.72, 0.73, 0.74, 0.75, 0.76, 0.77, 0.78, 0.79, 0.8, 0.81, 0.82, 0.83, 0.84, 0.85, 0.86, 0.87, 0.88, 0.89, 0.9, 0.91, 0.92, 0.93, 0.94, 0.95, 0.96, 0.97, 0.98, 0.99]\n"
     ]
    }
   ],
   "source": [
    "#Chap3 Exercice2\n",
    "L=[i/100 for i in range(100) ]\n",
    "print(L)"
   ]
  },
  {
   "cell_type": "code",
   "execution_count": null,
   "id": "5ef6a2af-23cf-41f2-8d3a-10545e690487",
   "metadata": {},
   "outputs": [],
   "source": [
    "#Chap3 Exercice3\n",
    " L = [0,1,2,1,0,-1,-2,-1,0]\n",
    " L[0] #0\n",
    " L[-1]#0\n",
    " L[:-1] # L = [0,1,2,1,0,-1,-2,-1]\n",
    " L + L[1:-1] + L \n",
    " L[2:2] = [-3]\n",
    " L[3:4] = [1] #1\n",
    " L[2:5] = [-5]"
   ]
  }
 ],
 "metadata": {
  "kernelspec": {
   "display_name": "Python [conda env:base] *",
   "language": "python",
   "name": "conda-base-py"
  },
  "language_info": {
   "codemirror_mode": {
    "name": "ipython",
    "version": 3
   },
   "file_extension": ".py",
   "mimetype": "text/x-python",
   "name": "python",
   "nbconvert_exporter": "python",
   "pygments_lexer": "ipython3",
   "version": "3.13.5"
  }
 },
 "nbformat": 4,
 "nbformat_minor": 5
}
